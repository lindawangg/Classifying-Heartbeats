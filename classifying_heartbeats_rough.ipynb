{
 "cells": [
  {
   "cell_type": "code",
   "execution_count": 156,
   "metadata": {},
   "outputs": [
    {
     "name": "stdout",
     "output_type": "stream",
     "text": [
      "120\n",
      "407\n"
     ]
    }
   ],
   "source": [
    "# load in csv file\n",
    "import csv\n",
    "import numpy as np\n",
    "import wave\n",
    "import struct\n",
    "\n",
    "x_trainAFile = [] # wave filename \n",
    "y_trainA = [] # label \n",
    "\n",
    "x_trainBFile = [] # wave filename \n",
    "y_trainB = [] # label \n",
    "\n",
    "# ignores all entries that are less than 2 seconds\n",
    "def moreNsecs(file, N):\n",
    "    f = wave.open(file)\n",
    "    frames = f.readframes(-1)\n",
    "    samples = struct.unpack('h'*f.getnframes(), frames)\n",
    "    framerate = f.getframerate()\n",
    "    t = [float(i)/framerate for i in range(len(samples))]\n",
    "    if t[-1] > 2:\n",
    "        return True\n",
    "    else:\n",
    "        return False\n",
    "\n",
    "# ignores all entries without a label\n",
    "with open('set_a.csv') as csvfile:\n",
    "    reader = csv.reader(csvfile)\n",
    "    for row in reader:\n",
    "        if not row[2]=='' and not row[2]=='label': \n",
    "            if moreNsecs(row[1],2):\n",
    "                x_trainAFile.append(row[1])\n",
    "                y_trainA.append(row[2])\n",
    "print(len(x_trainAFile))\n",
    "\n",
    "with open('set_b.csv') as csvfile:\n",
    "    reader = csv.reader(csvfile)\n",
    "    for row in reader:\n",
    "        if not row[2]=='' and not row[2]=='label': #and 'noisy' not in row[1]:\n",
    "            fname = 'set_b/' + row[1][16:]\n",
    "            new_fname = ''\n",
    "            count = 0\n",
    "            for c in fname:\n",
    "                new_fname += c\n",
    "                if c == '_' and 'noisy' not in row[1]:\n",
    "                    if count == 1:\n",
    "                       new_fname += '_' \n",
    "                    count += 1\n",
    "            if moreNsecs(new_fname,2):\n",
    "                x_trainBFile.append(new_fname)\n",
    "                y_trainB.append(row[2])\n",
    "print(len(x_trainBFile))"
   ]
  },
  {
   "cell_type": "code",
   "execution_count": 157,
   "metadata": {
    "collapsed": true
   },
   "outputs": [],
   "source": [
    "from pylab import *\n",
    "\n",
    "def get_signal(file):\n",
    "    f = wave.open(file)\n",
    "    frames = f.readframes(-1)\n",
    "    samples = struct.unpack('h'*f.getnframes(), frames)\n",
    "    return samples"
   ]
  },
  {
   "cell_type": "code",
   "execution_count": 158,
   "metadata": {},
   "outputs": [
    {
     "name": "stdout",
     "output_type": "stream",
     "text": [
      "(120,)\n",
      "(407,)\n"
     ]
    }
   ],
   "source": [
    "# dataset A, import sound files\n",
    "x_trainA_raw = [] # features\n",
    "for i in range(len(x_trainAFile)):\n",
    "    x_trainA_raw.append(np.array(get_signal(x_trainAFile[i])))\n",
    "x_trainA_raw = np.array(x_trainA_raw)\n",
    "print(x_trainA_raw.shape)\n",
    "\n",
    "# dataset B, import sound files\n",
    "x_trainB_raw = [] # features\n",
    "for i in range(len(x_trainBFile)):\n",
    "    x_trainB_raw.append(np.array(get_signal(x_trainBFile[i])))\n",
    "x_trainB_raw = np.array(x_trainB_raw)\n",
    "print(x_trainB_raw.shape)"
   ]
  },
  {
   "cell_type": "code",
   "execution_count": 159,
   "metadata": {
    "collapsed": true
   },
   "outputs": [],
   "source": [
    "# downsample by a factor of 10\n",
    "def down_sample(x, factor=10):\n",
    "    r = range(len(x))\n",
    "    down_array = []\n",
    "    for i in r[0::factor]:\n",
    "        down_array.append(x[i])\n",
    "    return down_array"
   ]
  },
  {
   "cell_type": "code",
   "execution_count": 160,
   "metadata": {},
   "outputs": [
    {
     "name": "stdout",
     "output_type": "stream",
     "text": [
      "396900\n",
      "39690\n",
      "(120,)\n"
     ]
    }
   ],
   "source": [
    "print(len(x_trainA_raw[0]))\n",
    "x_trainA = []\n",
    "x_trainA = np.array([down_sample(sample) for sample in x_trainA_raw])\n",
    "print(len(x_trainA[0]))\n",
    "print(x_trainA.shape)"
   ]
  },
  {
   "cell_type": "code",
   "execution_count": 161,
   "metadata": {},
   "outputs": [
    {
     "data": {
      "image/png": "[encoded data removed]",
      "text/plain": [
       "<matplotlib.figure.Figure at 0x132c50320>"
      ]
     },
     "metadata": {},
     "output_type": "display_data"
    },
    {
     "data": {
      "image/png": "[encoded data removed]",
      "text/plain": [
       "<matplotlib.figure.Figure at 0x131f30c88>"
      ]
     },
     "metadata": {},
     "output_type": "display_data"
    }
   ],
   "source": [
    "figure()\n",
    "plot(x_trainA_raw[0],'r')\n",
    "figure()\n",
    "plot(x_trainA[0],'b')\n",
    "show()"
   ]
  },
  {
   "cell_type": "code",
   "execution_count": 162,
   "metadata": {
    "collapsed": true
   },
   "outputs": [],
   "source": [
    "# using wavelet decomposition\n",
    "import pywt"
   ]
  },
  {
   "cell_type": "code",
   "execution_count": 163,
   "metadata": {},
   "outputs": [
    {
     "name": "stdout",
     "output_type": "stream",
     "text": [
      "19848\n",
      "(120,)\n"
     ]
    }
   ],
   "source": [
    "# 4th-level Order Six Daubechies filter\n",
    "x_trainA = np.array([pywt.dwt(x,'db4')[0] for x in x_trainA])\n",
    "print(len(x_trainA[0]))\n",
    "print(x_trainA.shape)"
   ]
  },
  {
   "cell_type": "code",
   "execution_count": 164,
   "metadata": {},
   "outputs": [
    {
     "data": {
      "image/png": "[encoded data removed]",
      "text/plain": [
       "<matplotlib.figure.Figure at 0x130e61400>"
      ]
     },
     "metadata": {},
     "output_type": "display_data"
    },
    {
     "data": {
      "image/png": "[encoded data removed]",
      "text/plain": [
       "<matplotlib.figure.Figure at 0x130e589e8>"
      ]
     },
     "metadata": {},
     "output_type": "display_data"
    }
   ],
   "source": [
    "figure()\n",
    "plot(x_trainA_raw[0],'r')\n",
    "figure()\n",
    "plot(x_trainA[0],'b')\n",
    "show()"
   ]
  },
  {
   "cell_type": "code",
   "execution_count": 165,
   "metadata": {},
   "outputs": [
    {
     "data": {
      "image/png": "[encoded data removed]",
      "text/plain": [
       "<matplotlib.figure.Figure at 0x1310ff7b8>"
      ]
     },
     "metadata": {},
     "output_type": "display_data"
    },
    {
     "data": {
      "image/png": "[encoded data removed]",
      "text/plain": [
       "<matplotlib.figure.Figure at 0x10cd94e10>"
      ]
     },
     "metadata": {},
     "output_type": "display_data"
    },
    {
     "name": "stdout",
     "output_type": "stream",
     "text": [
      "(120, 7138)\n"
     ]
    }
   ],
   "source": [
    "# normalize \n",
    "x_trainA = np.array([x/max(x) for x in x_trainA])\n",
    "figure()\n",
    "plot(x_trainA_raw[0],'r')\n",
    "figure()\n",
    "plot(x_trainA[0],'b')\n",
    "show()\n",
    "\n",
    "min_length = min(map(len, x_trainA))\n",
    "x_trainA = np.array([x[:min_length] for x in x_trainA])\n",
    "print(x_trainA.shape)"
   ]
  },
  {
   "cell_type": "code",
   "execution_count": 166,
   "metadata": {},
   "outputs": [],
   "source": [
    "from scipy.signal import find_peaks_cwt\n",
    "\n",
    "def find_peaks(samples):\n",
    "    all_peaks = []\n",
    "    for sample in samples:\n",
    "        indexes = find_peaks_cwt(sample, np.arange(1, 5))\n",
    "        peaks = []\n",
    "        for i in indexes:\n",
    "            if sample[i] > 0.15:\n",
    "                peaks.append(i)\n",
    "\n",
    "        if len(peaks) > 1:\n",
    "            i = 1\n",
    "            start = 0\n",
    "            tmp_array = []\n",
    "            max_peak = sample[peaks[start]]\n",
    "            max_ind = start\n",
    "            while i < len(peaks):\n",
    "                if peaks[i] <= (peaks[start] + 200):\n",
    "                    if sample[peaks[i]] > max_peak:\n",
    "                        max_peak = sample[peaks[i]]\n",
    "                        max_ind = i\n",
    "                    if i == len(peaks)-1:\n",
    "                        tmp_array.append(peaks[max_ind])\n",
    "                        break\n",
    "                    i += 1\n",
    "                else:\n",
    "                    tmp_array.append(peaks[max_ind])\n",
    "                    start = i \n",
    "                    max_ind = start\n",
    "                    max_peak = sample[peaks[start]]\n",
    "                    i += 1\n",
    "            peaks = tmp_array\n",
    "        all_peaks.append(peaks)\n",
    "    return np.array(all_peaks)\n",
    "\n",
    "all_peaks = find_peaks(x_trainA)"
   ]
  },
  {
   "cell_type": "code",
   "execution_count": 167,
   "metadata": {},
   "outputs": [
    {
     "data": {
      "image/png": "[encoded data removed]",
      "text/plain": [
       "<matplotlib.figure.Figure at 0x13fd87668>"
      ]
     },
     "metadata": {},
     "output_type": "display_data"
    }
   ],
   "source": [
    "n = 119\n",
    "figure()\n",
    "title(y_trainA[n])\n",
    "plot(x_trainA[n],'b')\n",
    "scatter(all_peaks[n],x_trainA[n][all_peaks[n]],c='r')\n",
    "show()"
   ]
  },
  {
   "cell_type": "code",
   "execution_count": 134,
   "metadata": {},
   "outputs": [
    {
     "data": {
      "text/plain": [
       "\"n = 110\\nfrom scipy.signal import find_peaks_cwt\\nindexes = find_peaks_cwt(x_trainA[n], np.arange(1, 5))\\nfigure()\\ntitle(y_trainA[n])\\nplot(x_trainA[n],'b')\\nscatter(indexes,x_trainA[n][indexes],c='r')\\nshow()\\n\\npeaks = []\\nfor x in x_trainA[n:n+1]:\\n    for i in indexes:\\n        if x[i] > 0.15:\\n            peaks.append(i)\\nfigure()\\nplot(x_trainA[n],'b')\\nscatter(peaks,x_trainA[n][peaks],c='r')\\nshow()\\n\\nif len(peaks) > 1:\\n    i = 1\\n    start = 0\\n    tmp_array = []\\n    max_peak = x_trainA[n][peaks[start]]\\n    max_ind = start\\n    while i < len(peaks):\\n        if peaks[i] <= (peaks[start] + 200):\\n            if x_trainA[n][peaks[i]] > max_peak:\\n                max_peak = x_trainA[n][peaks[i]]\\n                max_ind = i\\n            if i == len(peaks)-1:\\n                tmp_array.append(peaks[max_ind])\\n                break\\n            i += 1\\n        else:\\n            tmp_array.append(peaks[max_ind])\\n            start = i \\n            max_ind = start\\n            max_peak = x_trainA[n][peaks[start]]\\n            i += 1\\n    peaks = tmp_array\\n\\nprint(peaks)\\nfigure()\\nplot(x_trainA[n],'b')\\nscatter(peaks,x_trainA[n][peaks],c='r')\\nshow()\""
      ]
     },
     "execution_count": 134,
     "metadata": {},
     "output_type": "execute_result"
    }
   ],
   "source": [
    "# This is what the find_peaks function does\n",
    "# Uncomment to see how the find_peaks works \n",
    "'''n = 110\n",
    "from scipy.signal import find_peaks_cwt\n",
    "indexes = find_peaks_cwt(x_trainA[n], np.arange(1, 5))\n",
    "figure()\n",
    "title(y_trainA[n])\n",
    "plot(x_trainA[n],'b')\n",
    "scatter(indexes,x_trainA[n][indexes],c='r')\n",
    "show()\n",
    "\n",
    "peaks = []\n",
    "for x in x_trainA[n:n+1]:\n",
    "    for i in indexes:\n",
    "        if x[i] > 0.15:\n",
    "            peaks.append(i)\n",
    "figure()\n",
    "plot(x_trainA[n],'b')\n",
    "scatter(peaks,x_trainA[n][peaks],c='r')\n",
    "show()\n",
    "\n",
    "if len(peaks) > 1:\n",
    "    i = 1\n",
    "    start = 0\n",
    "    tmp_array = []\n",
    "    max_peak = x_trainA[n][peaks[start]]\n",
    "    max_ind = start\n",
    "    while i < len(peaks):\n",
    "        if peaks[i] <= (peaks[start] + 200):\n",
    "            if x_trainA[n][peaks[i]] > max_peak:\n",
    "                max_peak = x_trainA[n][peaks[i]]\n",
    "                max_ind = i\n",
    "            if i == len(peaks)-1:\n",
    "                tmp_array.append(peaks[max_ind])\n",
    "                break\n",
    "            i += 1\n",
    "        else:\n",
    "            tmp_array.append(peaks[max_ind])\n",
    "            start = i \n",
    "            max_ind = start\n",
    "            max_peak = x_trainA[n][peaks[start]]\n",
    "            i += 1\n",
    "    peaks = tmp_array\n",
    "\n",
    "print(peaks)\n",
    "figure()\n",
    "plot(x_trainA[n],'b')\n",
    "scatter(peaks,x_trainA[n][peaks],c='r')\n",
    "show()'''"
   ]
  },
  {
   "cell_type": "code",
   "execution_count": 168,
   "metadata": {},
   "outputs": [],
   "source": [
    "# features\n",
    "# 1. number of peaks\n",
    "# 2. average timing between peaks  \n",
    "# 3. average strength of peaks \n",
    "# 4. min peak\n",
    "# 5. max peak \n",
    "# would be also nice to find s1 and s2 and get m1 and m2 but don't even know what those are yet\n",
    "# TO-DO: Learn more about extrahls and murmur and their differences from normal\n",
    "\n",
    "def get_features(x_train,all_peaks):\n",
    "    features = []\n",
    "    for k in range(len(all_peaks)): \n",
    "        num_peaks = len(all_peaks[k])\n",
    "        avg_between = 0\n",
    "        avg_strength = 0\n",
    "        if len(all_peaks[k]) == 1:\n",
    "            avg_strength = x_train[k][all_peaks[k]]\n",
    "        min_peak = 0\n",
    "        max_peak = 0\n",
    "        if num_peaks > 1:\n",
    "            for i in range(1,len(all_peaks[k])):\n",
    "                avg_between += np.abs(all_peaks[k][i] - all_peaks[k][i-1])\n",
    "            avg_between /= len(all_peaks[k]) - 1\n",
    "            min_peak = min(x_train[n][all_peaks[k]])\n",
    "            max_peak = max(x_train[n][all_peaks[k]])\n",
    "            for i in range(1,len(all_peaks[k])):\n",
    "                avg_strength += x_train[n][all_peaks[k][i]]\n",
    "            avg_strength /= len(all_peaks[k])\n",
    "        features.append([num_peaks,avg_between,avg_strength,min_peak,max_peak])\n",
    "    features = np.array(features)\n",
    "    maxes = np.amax(features,axis=0)\n",
    "    for feature in features:\n",
    "        feature = np.array([feature[0]/maxes[0],feature[1]/maxes[1],feature[2]/maxes[2],feature[3]/maxes[3],feature[4]/maxes[4]])\n",
    "    return features \n",
    "\n",
    "features = get_features(x_trainA,all_peaks)"
   ]
  },
  {
   "cell_type": "code",
   "execution_count": 169,
   "metadata": {
    "collapsed": true
   },
   "outputs": [],
   "source": [
    "from sklearn import preprocessing\n",
    "le = preprocessing.LabelEncoder()\n",
    "y_trainA = le.fit_transform(y_trainA) # 0 - artifact, 1 - extrahls, 2 - murmur, 3 - normal"
   ]
  },
  {
   "cell_type": "code",
   "execution_count": 170,
   "metadata": {},
   "outputs": [
    {
     "name": "stdout",
     "output_type": "stream",
     "text": [
      "Performing training on fold...\n",
      "Performing training on fold...\n",
      "Performing training on fold...\n",
      "Performing training on fold...\n",
      "Performing training on fold...\n",
      "0.208333333333\n"
     ]
    }
   ],
   "source": [
    "from sklearn import svm\n",
    "from sklearn.model_selection import KFold\n",
    "\n",
    "# split into train/test\n",
    "# TO-DO: this is just my lazy way of splitting into train test, will do it properly with randomless later\n",
    "kf = KFold(n_splits=5)\n",
    "results = []\n",
    "for tr, ts in kf.split(features):\n",
    "    print(\"Performing training on fold...\")\n",
    "    clf = svm.SVC(C=70,probability=True, kernel='rbf')\n",
    "    #clf.fit(x_trainA[tr], y_trainA[tr])\n",
    "    results.append(clf.fit(features[tr], y_trainA[tr]).score(features[ts],y_trainA[ts]))\n",
    "print(np.average(results))"
   ]
  },
  {
   "cell_type": "code",
   "execution_count": null,
   "metadata": {
    "collapsed": true
   },
   "outputs": [],
   "source": []
  }
 ],
 "metadata": {
  "kernelspec": {
   "display_name": "Python 3",
   "language": "python",
   "name": "python3"
  },
  "language_info": {
   "codemirror_mode": {
    "name": "ipython",
    "version": 3
   },
   "file_extension": ".py",
   "mimetype": "text/x-python",
   "name": "python",
   "nbconvert_exporter": "python",
   "pygments_lexer": "ipython3",
   "version": "3.6.3"
  }
 },
 "nbformat": 4,
 "nbformat_minor": 2
}
