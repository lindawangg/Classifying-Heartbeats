{
 "cells": [
  {
   "cell_type": "code",
   "execution_count": 21,
   "metadata": {},
   "outputs": [
    {
     "name": "stdout",
     "output_type": "stream",
     "text": [
      "120\n",
      "407\n"
     ]
    }
   ],
   "source": [
    "# load in csv file\n",
    "import csv\n",
    "import numpy as np\n",
    "import wave\n",
    "import struct\n",
    "\n",
    "x_trainAFile = [] # wave filename \n",
    "y_trainA = [] # label \n",
    "\n",
    "x_trainBFile = [] # wave filename \n",
    "y_trainB = [] # label \n",
    "\n",
    "# ignores all entries that are less than 2 seconds\n",
    "def moreNsecs(file, N):\n",
    "    f = wave.open(file)\n",
    "    frames = f.readframes(-1)\n",
    "    samples = struct.unpack('h'*f.getnframes(), frames)\n",
    "    framerate = f.getframerate()\n",
    "    t = [float(i)/framerate for i in range(len(samples))]\n",
    "    if t[-1] > 2:\n",
    "        return True\n",
    "    else:\n",
    "        return False\n",
    "\n",
    "# ignores all entries without a label\n",
    "with open('set_a.csv') as csvfile:\n",
    "    reader = csv.reader(csvfile)\n",
    "    for row in reader:\n",
    "        if not row[2]=='' and not row[2]=='label': \n",
    "            if moreNsecs(row[1],2):\n",
    "                x_trainAFile.append(row[1])\n",
    "                y_trainA.append(row[2])\n",
    "print(len(x_trainAFile))\n",
    "\n",
    "with open('set_b.csv') as csvfile:\n",
    "    reader = csv.reader(csvfile)\n",
    "    for row in reader:\n",
    "        if not row[2]=='' and not row[2]=='label': #and 'noisy' not in row[1]:\n",
    "            fname = 'set_b/' + row[1][16:]\n",
    "            new_fname = ''\n",
    "            count = 0\n",
    "            for c in fname:\n",
    "                new_fname += c\n",
    "                if c == '_' and 'noisy' not in row[1]:\n",
    "                    if count == 1:\n",
    "                       new_fname += '_' \n",
    "                    count += 1\n",
    "            if moreNsecs(new_fname,2):\n",
    "                x_trainBFile.append(new_fname)\n",
    "                y_trainB.append(row[2])\n",
    "print(len(x_trainBFile))"
   ]
  },
  {
   "cell_type": "code",
   "execution_count": 22,
   "metadata": {
    "collapsed": true
   },
   "outputs": [],
   "source": [
    "from pylab import *\n",
    "\n",
    "def get_signal(file):\n",
    "    f = wave.open(file)\n",
    "    frames = f.readframes(-1)\n",
    "    samples = struct.unpack('h'*f.getnframes(), frames)\n",
    "    return samples"
   ]
  },
  {
   "cell_type": "code",
   "execution_count": 37,
   "metadata": {},
   "outputs": [
    {
     "name": "stdout",
     "output_type": "stream",
     "text": [
      "(120,)\n",
      "(407,)\n"
     ]
    }
   ],
   "source": [
    "# dataset A, import sound files\n",
    "x_trainA_raw = [] # features\n",
    "for i in range(len(x_trainAFile)):\n",
    "    x_trainA_raw.append(np.array(get_signal(x_trainAFile[i])))\n",
    "x_trainA_raw = np.array(x_trainA_raw)\n",
    "print(x_trainA_raw.shape)\n",
    "\n",
    "# dataset B, import sound files\n",
    "x_trainB_raw = [] # features\n",
    "for i in range(len(x_trainBFile)):\n",
    "    x_trainB_raw.append(np.array(get_signal(x_trainBFile[i])))\n",
    "x_trainB_raw = np.array(x_trainB_raw)\n",
    "print(x_trainB_raw.shape)"
   ]
  },
  {
   "cell_type": "code",
   "execution_count": 38,
   "metadata": {
    "collapsed": true
   },
   "outputs": [],
   "source": [
    "# downsample by a factor of 10\n",
    "def down_sample(x, factor=10):\n",
    "    r = range(len(x))\n",
    "    down_array = []\n",
    "    for i in r[0::factor]:\n",
    "        down_array.append(x[i])\n",
    "    return down_array"
   ]
  },
  {
   "cell_type": "code",
   "execution_count": 39,
   "metadata": {},
   "outputs": [
    {
     "name": "stdout",
     "output_type": "stream",
     "text": [
      "396900\n",
      "39690\n",
      "(120,)\n"
     ]
    }
   ],
   "source": [
    "print(len(x_trainA_raw[0]))\n",
    "x_trainA = []\n",
    "x_trainA = np.array([down_sample(sample) for sample in x_trainA_raw])\n",
    "print(len(x_trainA[0]))\n",
    "print(x_trainA.shape)"
   ]
  },
  {
   "cell_type": "code",
   "execution_count": 40,
   "metadata": {},
   "outputs": [
    {
     "data": {
      "image/png": "[encoded data removed]",
      "text/plain": [
       "<matplotlib.figure.Figure at 0x221971007f0>"
      ]
     },
     "metadata": {},
     "output_type": "display_data"
    },
    {
     "data": {
      "image/png": "[encoded data removed]",
      "text/plain": [
       "<matplotlib.figure.Figure at 0x2219711dac8>"
      ]
     },
     "metadata": {},
     "output_type": "display_data"
    },
    {
     "name": "stdout",
     "output_type": "stream",
     "text": [
      "artifact\n"
     ]
    }
   ],
   "source": [
    "figure()\n",
    "plot(x_trainA_raw[0],'r')\n",
    "figure()\n",
    "plot(x_trainA[0],'b')\n",
    "show()\n",
    "print(y_trainA[0])"
   ]
  },
  {
   "cell_type": "code",
   "execution_count": 27,
   "metadata": {
    "collapsed": true
   },
   "outputs": [],
   "source": [
    "# using wavelet decomposition\n",
    "import pywt"
   ]
  },
  {
   "cell_type": "code",
   "execution_count": 41,
   "metadata": {},
   "outputs": [
    {
     "name": "stdout",
     "output_type": "stream",
     "text": [
      "19848\n",
      "(120,)\n"
     ]
    }
   ],
   "source": [
    "# 4th-level Order Six Daubechies filter\n",
    "x_trainA = np.array([pywt.dwt(x,'db4')[0] for x in x_trainA])\n",
    "print(len(x_trainA[0]))\n",
    "print(x_trainA.shape)"
   ]
  },
  {
   "cell_type": "code",
   "execution_count": 63,
   "metadata": {},
   "outputs": [
    {
     "data": {
      "image/png": "[encoded data removed]",
      "text/plain": [
       "<matplotlib.figure.Figure at 0x22189f02400>"
      ]
     },
     "metadata": {},
     "output_type": "display_data"
    },
    {
     "data": {
      "image/png": "[encoded data removed]",
      "text/plain": [
       "<matplotlib.figure.Figure at 0x221970c3320>"
      ]
     },
     "metadata": {},
     "output_type": "display_data"
    },
    {
     "name": "stdout",
     "output_type": "stream",
     "text": [
      "artifact\n"
     ]
    }
   ],
   "source": [
    "figure()\n",
    "plot(x_trainA_raw[0],'r')\n",
    "figure()\n",
    "plot(x_trainA[0],'b')\n",
    "show()\n",
    "print(y_trainA[0])"
   ]
  },
  {
   "cell_type": "code",
   "execution_count": 42,
   "metadata": {},
   "outputs": [
    {
     "data": {
      "image/png": "[encoded data removed]",
      "text/plain": [
       "<matplotlib.figure.Figure at 0x2219fd0c1d0>"
      ]
     },
     "metadata": {},
     "output_type": "display_data"
    },
    {
     "data": {
      "image/png": "[encoded data removed]",
      "text/plain": [
       "<matplotlib.figure.Figure at 0x221970f69b0>"
      ]
     },
     "metadata": {},
     "output_type": "display_data"
    },
    {
     "name": "stdout",
     "output_type": "stream",
     "text": [
      "(120, 7138)\n"
     ]
    }
   ],
   "source": [
    "# normalize \n",
    "x_trainA = np.array([x/max(x) for x in x_trainA])\n",
    "\n",
    "figure()\n",
    "plot(x_trainA_raw[90],'r')\n",
    "figure()\n",
    "plot(x_trainA[90],'b')\n",
    "show()\n",
    "\n",
    "min_length = min(map(len, x_trainA))\n",
    "x_trainA = np.array([x[:min_length] for x in x_trainA])\n",
    "print(x_trainA.shape)"
   ]
  },
  {
   "cell_type": "code",
   "execution_count": 44,
   "metadata": {},
   "outputs": [],
   "source": [
    "from scipy.signal import find_peaks_cwt\n",
    "import numpy as np\n",
    "\n",
    "def find_peaks(samples, set_name):\n",
    "    if set_name.upper() == 'A':\n",
    "        interval = 200\n",
    "        r = 5\n",
    "    else:\n",
    "        interval = 20\n",
    "        r = 2\n",
    "    all_peaks = []\n",
    "    for sample in samples:\n",
    "        indexes = find_peaks_cwt(sample, np.arange(1, r))\n",
    "        peaks = []\n",
    "        for i in indexes:\n",
    "            if sample[i] > 0.13:\n",
    "                peaks.append(i)\n",
    "\n",
    "        if len(peaks) > 1:\n",
    "            i = 1\n",
    "            start = 0\n",
    "            tmp_array = []\n",
    "            max_peak = sample[peaks[start]]\n",
    "            max_ind = start\n",
    "            while i < len(peaks):\n",
    "                if peaks[i] <= (peaks[start] + interval):\n",
    "                    if sample[peaks[i]] > max_peak:\n",
    "                        max_peak = sample[peaks[i]]\n",
    "                        max_ind = i\n",
    "                    if i == len(peaks)-1:\n",
    "                        tmp_array.append(peaks[max_ind])\n",
    "                        break\n",
    "                    i += 1\n",
    "                else:\n",
    "                    tmp_array.append(peaks[max_ind])\n",
    "                    start = i \n",
    "                    max_ind = start\n",
    "                    max_peak = sample[peaks[start]]\n",
    "                    i += 1\n",
    "            peaks = tmp_array\n",
    "        all_peaks.append(peaks)\n",
    "    return np.array(all_peaks)\n",
    "\n",
    "all_peaks = find_peaks(x_trainA, 'A')"
   ]
  },
  {
   "cell_type": "code",
   "execution_count": 45,
   "metadata": {},
   "outputs": [
    {
     "data": {
      "image/png": "[encoded data removed]",
      "text/plain": [
       "<matplotlib.figure.Figure at 0x22192036588>"
      ]
     },
     "metadata": {},
     "output_type": "display_data"
    }
   ],
   "source": [
    "n = 90\n",
    "figure()\n",
    "title(y_trainA[n])\n",
    "plot(x_trainA[n],'b')\n",
    "scatter(all_peaks[n],x_trainA[n][all_peaks[n]],c='r')\n",
    "show()"
   ]
  },
  {
   "cell_type": "code",
   "execution_count": null,
   "metadata": {
    "scrolled": true
   },
   "outputs": [],
   "source": [
    "# c = fft(x_trainA[45]) # calculate fourier transform (complex numbers list)\n",
    "# plt.plot(c,'r') \n",
    "# plt.show()\n",
    "# print(y_trainA[45])\n",
    "\n",
    "# c = fft(x_trainA[60]) # calculate fourier transform (complex numbers list)\n",
    "# plt.plot(c,'r') \n",
    "# plt.show()\n",
    "# print(y_trainA[60])\n",
    "\n",
    "# c = fft(x_trainA[102]) # calculate fourier transform (complex numbers list)\n",
    "# plt.plot(c,'r') \n",
    "# plt.show()\n",
    "# print(y_trainA[102])\n",
    "\n",
    "# for i in range(len(x_trainA)):\n",
    "#     c = fft(x_trainA[i])\n",
    "#     plt.plot(c)\n",
    "#     show()\n",
    "#     print(y_trainA[i])"
   ]
  },
  {
   "cell_type": "code",
   "execution_count": null,
   "metadata": {},
   "outputs": [],
   "source": [
    "# This is what the find_peaks function does\n",
    "# Uncomment to see how the find_peaks works \n",
    "'''n = 90\n",
    "from scipy.signal import find_peaks_cwt\n",
    "indexes = find_peaks_cwt(x_trainA[n], np.arange(1, 5))\n",
    "figure()\n",
    "title(y_trainA[n])\n",
    "plot(x_trainA[n],'b')\n",
    "scatter(indexes,x_trainA[n][indexes],c='r')\n",
    "show()\n",
    "\n",
    "peaks = []\n",
    "for x in x_trainA[n:n+1]:\n",
    "    for i in indexes:\n",
    "        if x[i] > 0.13:\n",
    "            peaks.append(i)\n",
    "figure()\n",
    "plot(x_trainA[n],'b')\n",
    "scatter(peaks,x_trainA[n][peaks],c='r')\n",
    "show()\n",
    "\n",
    "if len(peaks) > 1:\n",
    "    i = 1\n",
    "    start = 0\n",
    "    tmp_array = []\n",
    "    max_peak = x_trainA[n][peaks[start]]\n",
    "    max_ind = start\n",
    "    while i < len(peaks):\n",
    "        if peaks[i] <= (peaks[start] + 200):\n",
    "            if x_trainA[n][peaks[i]] > max_peak:\n",
    "                max_peak = x_trainA[n][peaks[i]]\n",
    "                max_ind = i\n",
    "            if i == len(peaks)-1:\n",
    "                tmp_array.append(peaks[max_ind])\n",
    "                break\n",
    "            i += 1\n",
    "        else:\n",
    "            tmp_array.append(peaks[max_ind])\n",
    "            start = i \n",
    "            max_ind = start\n",
    "            max_peak = x_trainA[n][peaks[start]]\n",
    "            i += 1\n",
    "    peaks = tmp_array\n",
    "\n",
    "print(peaks)\n",
    "figure()\n",
    "plot(x_trainA[n],'b')\n",
    "scatter(peaks,x_trainA[n][peaks],c='r')\n",
    "show()'''"
   ]
  },
  {
   "cell_type": "code",
   "execution_count": 48,
   "metadata": {
    "collapsed": true
   },
   "outputs": [],
   "source": [
    "# features\n",
    "# 1. number of peaks\n",
    "# 2. average timing between peaks  \n",
    "# 3. average strength of peaks \n",
    "# 4. min peak\n",
    "# 5. max peak \n",
    "# would be also nice to find s1 and s2 and get m1 and m2 but don't even know what those are yet\n",
    "# TO-DO: Learn more about extrahls and murmur and their differences from normal\n",
    "\n",
    "def get_features(x_train,all_peaks):\n",
    "    features = []\n",
    "    for k in range(len(all_peaks)): \n",
    "        num_peaks = len(all_peaks[k])\n",
    "        avg_between = 0\n",
    "        avg_strength = 0\n",
    "        if len(all_peaks[k]) == 1:\n",
    "            avg_strength = x_train[k][all_peaks[k]]\n",
    "        min_peak = 0\n",
    "        max_peak = 0\n",
    "        if num_peaks > 1:\n",
    "            for i in range(1,len(all_peaks[k])):\n",
    "                avg_between += np.abs(all_peaks[k][i] - all_peaks[k][i-1])\n",
    "            avg_between /= len(all_peaks[k]) - 1\n",
    "            min_peak = min(x_train[n][all_peaks[k]])\n",
    "            max_peak = max(x_train[n][all_peaks[k]])\n",
    "            for i in range(1,len(all_peaks[k])):\n",
    "                avg_strength += x_train[n][all_peaks[k][i]]\n",
    "            avg_strength /= len(all_peaks[k])\n",
    "        features.append([num_peaks,avg_between,avg_strength,min_peak,max_peak])\n",
    "    features = np.array(features)\n",
    "    maxes = np.amax(features,axis=0)\n",
    "    for feature in features:\n",
    "        feature = np.array([feature[0]/maxes[0],feature[1]/maxes[1],feature[2]/maxes[2],feature[3]/maxes[3],feature[4]/maxes[4]])\n",
    "    return features \n",
    "\n",
    "features = get_features(x_trainA,all_peaks)"
   ]
  },
  {
   "cell_type": "code",
   "execution_count": 161,
   "metadata": {
    "scrolled": true
   },
   "outputs": [],
   "source": [
    "#finding difference between all peaks in every file\n",
    "all_diffs = []\n",
    "for k in range(len(all_peaks)):\n",
    "    diff = np.diff(all_peaks[k])\n",
    "    all_diffs.append([diff])\n",
    "\n",
    "#finding max difference or diastole period\n",
    "# and then labelling the first peak as s2 and second peak as s1\n",
    "max_index = []\n",
    "s1s2_peaks = []\n",
    "for k in range(len(all_diffs)):\n",
    "    if any(all_diffs[k]):\n",
    "        max_index.append(np.argmax(all_diffs[k]))\n",
    "        s2 = all_peaks[k][max_index[k]]\n",
    "        s1 = all_peaks[k][max_index[k]+1]\n",
    "        s1s2_peaks.append([s1, s2])\n",
    "    else:\n",
    "        max_index.append([np.NaN])\n",
    "        s1s2_peaks.append([np.NaN])"
   ]
  },
  {
   "cell_type": "code",
   "execution_count": 166,
   "metadata": {},
   "outputs": [],
   "source": [
    "#defining s1 and s2 boundaries\n",
    "s1_bounds = []\n",
    "s2_bounds = []\n",
    "upper_s1 = 200\n",
    "lower_s1 = 80\n",
    "upper_s2 = 600\n",
    "lower_s2 = 70\n",
    "\n",
    "\n",
    "for k in range(len(s1s2_peaks)):\n",
    "    if np.isnan(s1s2_peaks[k][0]):\n",
    "        s1_bounds.append(NaN)\n",
    "        s2_bounds.append(NaN)\n",
    "    else:\n",
    "        s1_bounds.append([s1s2_peaks[k][0]-lower_s1, s1s2_peaks[k][0]+upper_s1])\n",
    "        s2_bounds.append([s1s2_peaks[k][1]-lower_s1, s1s2_peaks[k][1]+upper_s1])\n"
   ]
  },
  {
   "cell_type": "code",
   "execution_count": null,
   "metadata": {
    "scrolled": false
   },
   "outputs": [],
   "source": [
    "#plotting s1 and s2\n",
    "for k in range(len(all_peaks)):\n",
    "    if np.isnan(s1s2_peaks[k][0]):\n",
    "        print(\"No peaks were found.\")\n",
    "    else: \n",
    "        figure()\n",
    "        title(y_trainA[k])\n",
    "        plot(x_trainA[k],'b') #plots signal\n",
    "        scatter(s1s2_peaks[k][0],x_trainA[k][s1s2_peaks[k][0]],c='r') #plots s1\n",
    "        axvline(x=s1_bounds[k][0],c='r')\n",
    "        axvline(x=s1_bounds[k][1],c='r')\n",
    "        scatter(s1s2_peaks[k][1],x_trainA[k][s1s2_peaks[k][1]], c='y') #plots s2\n",
    "        axvline(x=s2_bounds[k][0],c='y')\n",
    "        axvline(x=s2_bounds[k][1],c='y')\n",
    "        show()"
   ]
  },
  {
   "cell_type": "code",
   "execution_count": 211,
   "metadata": {
    "collapsed": true
   },
   "outputs": [],
   "source": [
    "#function for plotting class specific points of a feature\n",
    "def featurePlot(feat):\n",
    "    print(\"Red=artifacts, blue=extrahls, purple=murmur, cyan=normal\")\n",
    "    for i in range(len(feat)):\n",
    "        if y_trainA[i] == 0:\n",
    "            scatter(i,feat[i], c='r')\n",
    "        elif y_trainA[i] == 1:\n",
    "            scatter(i,feat[i], c='b')\n",
    "        elif y_trainA[i] == 2:\n",
    "            scatter(i,feat[i], c='m')\n",
    "        elif y_trainA[i] == 3:\n",
    "            scatter(i,feat[i], c='c')\n",
    "    show()\n",
    "    return"
   ]
  },
  {
   "cell_type": "code",
   "execution_count": null,
   "metadata": {},
   "outputs": [],
   "source": [
    "#features from the naive bayes paper \n",
    "#power of s1 found using rms, waste\n",
    "import audioop\n",
    "power = []\n",
    "for k in range(len(x_trainA)):\n",
    "    if np.isnan(s1s2_peaks[k][0]):\n",
    "        power.append([0])\n",
    "    else:\n",
    "        power.append([audioop.rms(x_trainA[k][s1_bounds[k][0]:s1_bounds[k][1]],1)])\n",
    "\n",
    "featurePlot(power)"
   ]
  },
  {
   "cell_type": "code",
   "execution_count": 244,
   "metadata": {},
   "outputs": [
    {
     "name": "stdout",
     "output_type": "stream",
     "text": [
      "Red=artifacts, blue=extrahls, purple=murmur, cyan=normal\n"
     ]
    },
    {
     "data": {
      "image/png": "[encoded data removed]",
      "text/plain": [
       "<matplotlib.figure.Figure at 0x2219a6b67f0>"
      ]
     },
     "metadata": {},
     "output_type": "display_data"
    },
    {
     "name": "stderr",
     "output_type": "stream",
     "text": [
      "C:\\Users\\Shirley\\Anaconda3\\lib\\site-packages\\numpy\\core\\_methods.py:135: RuntimeWarning: Degrees of freedom <= 0 for slice\n",
      "  keepdims=keepdims)\n",
      "C:\\Users\\Shirley\\Anaconda3\\lib\\site-packages\\numpy\\core\\_methods.py:105: RuntimeWarning: invalid value encountered in true_divide\n",
      "  arrmean, rcount, out=arrmean, casting='unsafe', subok=False)\n",
      "C:\\Users\\Shirley\\Anaconda3\\lib\\site-packages\\numpy\\core\\_methods.py:127: RuntimeWarning: invalid value encountered in double_scalars\n",
      "  ret = ret.dtype.type(ret / rcount)\n"
     ]
    },
    {
     "name": "stdout",
     "output_type": "stream",
     "text": [
      "Red=artifacts, blue=extrahls, purple=murmur, cyan=normal\n"
     ]
    },
    {
     "data": {
      "image/png": "[encoded data removed]",
      "text/plain": [
       "<matplotlib.figure.Figure at 0x2219a01c358>"
      ]
     },
     "metadata": {},
     "output_type": "display_data"
    },
    {
     "name": "stdout",
     "output_type": "stream",
     "text": [
      "Red=artifacts, blue=extrahls, purple=murmur, cyan=normal\n"
     ]
    },
    {
     "data": {
      "image/png": "[encoded data removed]",
      "text/plain": [
       "<matplotlib.figure.Figure at 0x2219e1acd68>"
      ]
     },
     "metadata": {},
     "output_type": "display_data"
    }
   ],
   "source": [
    "#time domain\n",
    "\n",
    "# #mean value between s2 and s1 periods, waste\n",
    "# mean = []\n",
    "# for k in range(len(x_trainA)):\n",
    "#     if np.isnan(s1s2_peaks[k][0]):\n",
    "#         mean.append([0])\n",
    "#     else:\n",
    "#         signal = abs(x_trainA)\n",
    "#         mean.append([(np.mean(signal[k][s2_bounds[k][1]:s1_bounds[k][0]]))*100])\n",
    "# featurePlot(mean)\n",
    "\n",
    "#std deviation of specific interval where\n",
    "#lower is the left most bound of the interval, upper is right most bound\n",
    "def stdInterval(lower,low_index,upper,up_index):\n",
    "    std = []\n",
    "    for k in range(len(x_trainA)):\n",
    "        if np.isnan(s1s2_peaks[k][0]):\n",
    "            std.append([0])\n",
    "        else:\n",
    "            std.append([np.std(x_trainA[k][lower[k][low_index]:upper[k][up_index]])])\n",
    "    return std\n",
    "\n",
    "title(\"std deviation between s2 and s1 period\")\n",
    "featurePlot(stdInterval(s2_bounds,1,s1_bounds,0))\n",
    "title(\"std deviation of s2 interval only\")\n",
    "featurePlot(stdInterval(s2_bounds,0,s2_bounds,1))\n",
    "title(\"std deviation of s1 interval only\")\n",
    "featurePlot(stdInterval(s1_bounds,0,s1_bounds,1))"
   ]
  },
  {
   "cell_type": "code",
   "execution_count": null,
   "metadata": {
    "collapsed": true
   },
   "outputs": [],
   "source": []
  },
  {
   "cell_type": "code",
   "execution_count": 135,
   "metadata": {
    "collapsed": true
   },
   "outputs": [],
   "source": [
    "from sklearn import preprocessing\n",
    "le = preprocessing.LabelEncoder()\n",
    "y_trainA = le.fit_transform(y_trainA) # 0 - artifact, 1 - extrahls, 2 - murmur, 3 - normal"
   ]
  },
  {
   "cell_type": "code",
   "execution_count": 125,
   "metadata": {},
   "outputs": [
    {
     "name": "stdout",
     "output_type": "stream",
     "text": [
      "Performing training on fold...\n",
      "Performing training on fold...\n",
      "Performing training on fold...\n",
      "Performing training on fold...\n",
      "Performing training on fold...\n",
      "0.141666666667\n"
     ]
    }
   ],
   "source": [
    "from sklearn import svm\n",
    "from sklearn.model_selection import KFold\n",
    "\n",
    "# split into train/test\n",
    "# TO-DO: this is just my lazy way of splitting into train test, will do it properly with randomless later\n",
    "kf = KFold(n_splits=5)\n",
    "results = []\n",
    "for tr, ts in kf.split(features):\n",
    "    print(\"Performing training on fold...\")\n",
    "    clf = svm.SVC(C=70,probability=True, kernel='rbf')\n",
    "    #clf.fit(x_trainA[tr], y_trainA[tr])\n",
    "    results.append(clf.fit(features[tr], y_trainA[tr]).score(features[ts],y_trainA[ts]))\n",
    "print(np.average(results))"
   ]
  },
  {
   "cell_type": "code",
   "execution_count": null,
   "metadata": {
    "collapsed": true
   },
   "outputs": [],
   "source": []
  }
 ],
 "metadata": {
  "kernelspec": {
   "display_name": "Python 3",
   "language": "python",
   "name": "python3"
  },
  "language_info": {
   "codemirror_mode": {
    "name": "ipython",
    "version": 3
   },
   "file_extension": ".py",
   "mimetype": "text/x-python",
   "name": "python",
   "nbconvert_exporter": "python",
   "pygments_lexer": "ipython3",
   "version": "3.6.4"
  }
 },
 "nbformat": 4,
 "nbformat_minor": 2
}
